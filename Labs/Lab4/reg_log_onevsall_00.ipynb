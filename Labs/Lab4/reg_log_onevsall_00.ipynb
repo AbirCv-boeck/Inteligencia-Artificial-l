{
 "cells": [
  {
   "cell_type": "code",
   "execution_count": 19,
   "metadata": {
    "colab": {
     "base_uri": "https://localhost:8080/"
    },
    "executionInfo": {
     "elapsed": 2749,
     "status": "ok",
     "timestamp": 1756224621261,
     "user": {
      "displayName": "Carlos Walter Pacheco Lora",
      "userId": "05889892519883337793"
     },
     "user_tz": 240
    },
    "id": "clyp4NcQycWP",
    "outputId": "4f284b25-f391-4edc-d03c-437f467d5f7d"
   },
   "outputs": [
    {
     "name": "stdout",
     "output_type": "stream",
     "text": [
      "Drive already mounted at /content/drive; to attempt to forcibly remount, call drive.mount(\"/content/drive\", force_remount=True).\n"
     ]
    }
   ],
   "source": [
    "from google.colab import drive\n",
    "drive.mount('/content/drive')"
   ]
  },
  {
   "cell_type": "code",
   "execution_count": 15,
   "metadata": {
    "executionInfo": {
     "elapsed": 5,
     "status": "ok",
     "timestamp": 1756224621261,
     "user": {
      "displayName": "Carlos Walter Pacheco Lora",
      "userId": "05889892519883337793"
     },
     "user_tz": 240
    },
    "id": "20Q29kX8SxgJ"
   },
   "outputs": [],
   "source": [
    "# utilizado para la manipulación de directorios y rutas\n",
    "import os\n",
    "\n",
    "# Cálculo científico y vectorial para python\n",
    "import numpy as np\n",
    "import pandas as pd\n",
    "# Libreria para graficos\n",
    "from matplotlib import pyplot\n",
    "\n",
    "# Modulo de optimizacion en scipy\n",
    "from scipy import optimize\n",
    "from sklearn.preprocessing import LabelEncoder\n",
    "\n",
    "# modulo para cargar archivos en formato MATLAB\n",
    "# from scipy.io import loadmat\n",
    "\n",
    "# le dice a matplotlib que incruste gráficos en el cuaderno\n",
    "%matplotlib inline"
   ]
  },
  {
   "cell_type": "code",
   "execution_count": 23,
   "metadata": {
    "executionInfo": {
     "elapsed": 5,
     "status": "ok",
     "timestamp": 1756224621262,
     "user": {
      "displayName": "Carlos Walter Pacheco Lora",
      "userId": "05889892519883337793"
     },
     "user_tz": 240
    },
    "id": "hhRjL2ptSxgK"
   },
   "outputs": [
    {
     "name": "stdout",
     "output_type": "stream",
     "text": [
      "Primeras filas de X (cualitativo):\n",
      "   Age  Gender Blood Type Medical Condition Admission Type   Medication\n",
      "0   30    Male         B-            Cancer         Urgent  Paracetamol\n",
      "1   62    Male         A+           Obesity      Emergency    Ibuprofen\n",
      "2   76  Female         A-           Obesity      Emergency      Aspirin\n",
      "3   28  Female         O+          Diabetes       Elective    Ibuprofen\n",
      "4   43  Female        AB+            Cancer         Urgent   Penicillin \n",
      "\n",
      "Valores únicos de y (cualitativo): ['Abnormal' 'Inconclusive' 'Normal']\n",
      "Número de ejemplos: 55500\n"
     ]
    }
   ],
   "source": [
    "# La entrada es de 14 elemento contando con x0\n",
    "input_layer_size  = 6# 10 etiquetas, de 1 a 10 (tomar en cuenta que se asigna \"0\" a la etiqueta 10)\n",
    "num_labels = 3\n",
    "# --------------------\n",
    "# Cargar dataset\n",
    "# --------------------\n",
    "df = pd.read_csv(r\"C:\\INTELIGENCIA_ARTIFICIAL-l\\datasets\\healthcare_dataset.csv\")\n",
    "\n",
    "\n",
    "# Selección de columnas para X usando nombres\n",
    "X = df[['Age', 'Gender', 'Blood Type', 'Medical Condition', 'Admission Type', 'Medication']]\n",
    "\n",
    "# Etiqueta y: Test Results\n",
    "y = df['Test Results']\n",
    "\n",
    "# Número de ejemplos\n",
    "m = y.size\n",
    "\n",
    "# --------------------\n",
    "# Mostrar datos\n",
    "# --------------------\n",
    "print(\"Primeras filas de X (cualitativo):\")\n",
    "print(X.head(), \"\\n\")\n",
    "\n",
    "print(\"Valores únicos de y (cualitativo):\", np.unique(y))\n",
    "print(\"Número de ejemplos:\", m)\n"
   ]
  },
  {
   "cell_type": "code",
   "execution_count": 24,
   "metadata": {},
   "outputs": [
    {
     "name": "stdout",
     "output_type": "stream",
     "text": [
      "Primeras filas de X numérico:\n",
      "[[30  0  5  2  2  3]\n",
      " [62  0  0  5  1  1]\n",
      " [76  1  1  5  1  0]\n",
      " [28  1  6  3  0  1]\n",
      " [43  1  2  2  2  4]] \n",
      "\n",
      "Valores únicos de y numérico: [0 1 2]\n",
      "Número de ejemplos: 55500\n",
      "Número de características (input_layer_size): 6\n"
     ]
    }
   ],
   "source": [
    "\n",
    "# --------------------\n",
    "# Cargar dataset\n",
    "# --------------------\n",
    "df = pd.read_csv(r\"C:\\INTELIGENCIA_ARTIFICIAL-l\\datasets\\healthcare_dataset.csv\")\n",
    "\n",
    "# --------------------\n",
    "# Selección de columnas para X\n",
    "# --------------------\n",
    "X = df[['Age', 'Gender', 'Blood Type', 'Medical Condition', 'Admission Type', 'Medication']].copy()\n",
    "y = df['Test Results']\n",
    "\n",
    "# --------------------\n",
    "# Transformar las categóricas a números\n",
    "# --------------------\n",
    "\n",
    "# Gender: Male=0, Female=1\n",
    "X['Gender'] = X['Gender'].map({'Male': 0, 'Female': 1})\n",
    "\n",
    "# Blood Type: LabelEncoder\n",
    "le_blood = LabelEncoder()\n",
    "X['Blood Type'] = le_blood.fit_transform(X['Blood Type'])\n",
    "\n",
    "# Medical Condition: LabelEncoder\n",
    "le_cond = LabelEncoder()\n",
    "X['Medical Condition'] = le_cond.fit_transform(X['Medical Condition'])\n",
    "\n",
    "# Admission Type: LabelEncoder\n",
    "le_adm = LabelEncoder()\n",
    "X['Admission Type'] = le_adm.fit_transform(X['Admission Type'])\n",
    "\n",
    "# Medication: LabelEncoder\n",
    "le_med = LabelEncoder()\n",
    "X['Medication'] = le_med.fit_transform(X['Medication'])\n",
    "\n",
    "# Etiqueta y: Test Results a números\n",
    "le_y = LabelEncoder()\n",
    "y = le_y.fit_transform(y)  # Normal=0, Abnormal=1, Inconclusive=2\n",
    "\n",
    "# Convertir X a numpy array\n",
    "X = X.values\n",
    "y = y\n",
    "\n",
    "# Número de ejemplos\n",
    "m = y.size\n",
    "\n",
    "# --------------------\n",
    "# Mostrar resultados finales\n",
    "# --------------------\n",
    "print(\"Primeras filas de X numérico:\")\n",
    "print(X[:5], \"\\n\")\n",
    "\n",
    "print(\"Valores únicos de y numérico:\", np.unique(y))\n",
    "print(\"Número de ejemplos:\", m)\n",
    "print(\"Número de características (input_layer_size):\", X.shape[1])\n",
    "\n"
   ]
  },
  {
   "cell_type": "code",
   "execution_count": 25,
   "metadata": {
    "colab": {
     "base_uri": "https://localhost:8080/"
    },
    "executionInfo": {
     "elapsed": 4,
     "status": "ok",
     "timestamp": 1756224621262,
     "user": {
      "displayName": "Carlos Walter Pacheco Lora",
      "userId": "05889892519883337793"
     },
     "user_tz": 240
    },
    "id": "aw2yVc8ESxgL",
    "outputId": "eebeeacd-4d9b-4b0c-8838-3b3cad8b9484"
   },
   "outputs": [
    {
     "name": "stdout",
     "output_type": "stream",
     "text": [
      "[30  0  5  2  2  3]\n",
      "[2 1 2 ... 0 0 0]\n"
     ]
    }
   ],
   "source": [
    "print(X[0,:])\n",
    "print(y)"
   ]
  },
  {
   "cell_type": "code",
   "execution_count": 26,
   "metadata": {
    "executionInfo": {
     "elapsed": 2,
     "status": "ok",
     "timestamp": 1756224621262,
     "user": {
      "displayName": "Carlos Walter Pacheco Lora",
      "userId": "05889892519883337793"
     },
     "user_tz": 240
    },
    "id": "HWF5C5Jt8wNb"
   },
   "outputs": [],
   "source": [
    "def  featureNormalize(X):\n",
    "    X_norm = X.copy()\n",
    "    mu = np.zeros(X.shape[1])\n",
    "    sigma = np.zeros(X.shape[1])\n",
    "\n",
    "    mu = np.mean(X, axis = 0)\n",
    "    sigma = np.std(X, axis = 0)\n",
    "    X_norm = (X - mu) / sigma\n",
    "\n",
    "    return X_norm, mu, sigma"
   ]
  },
  {
   "cell_type": "code",
   "execution_count": 27,
   "metadata": {
    "executionInfo": {
     "elapsed": 1,
     "status": "ok",
     "timestamp": 1756224621264,
     "user": {
      "displayName": "Carlos Walter Pacheco Lora",
      "userId": "05889892519883337793"
     },
     "user_tz": 240
    },
    "id": "f4W6d-ya1ABV"
   },
   "outputs": [],
   "source": [
    "# llama featureNormalize con los datos cargados\n",
    "X_norm, mu, sigma = featureNormalize(X)"
   ]
  },
  {
   "cell_type": "code",
   "execution_count": 29,
   "metadata": {
    "colab": {
     "base_uri": "https://localhost:8080/"
    },
    "executionInfo": {
     "elapsed": 25,
     "status": "ok",
     "timestamp": 1756224621289,
     "user": {
      "displayName": "Carlos Walter Pacheco Lora",
      "userId": "05889892519883337793"
     },
     "user_tz": 240
    },
    "id": "_lk8TeZPt5_S",
    "outputId": "2eecc12e-2b23-41ef-a26f-d8fec5784657"
   },
   "outputs": [
    {
     "name": "stdout",
     "output_type": "stream",
     "text": [
      "[-1.09882435 -0.99913551  0.65834792 -0.2920101   1.22267925  0.70897543]\n",
      "[2 1 2 ... 0 0 0]\n"
     ]
    }
   ],
   "source": [
    "\n",
    "print(X_norm[0,:])\n",
    "print(y)"
   ]
  },
  {
   "cell_type": "code",
   "execution_count": 30,
   "metadata": {
    "executionInfo": {
     "elapsed": 22,
     "status": "ok",
     "timestamp": 1756224621290,
     "user": {
      "displayName": "Carlos Walter Pacheco Lora",
      "userId": "05889892519883337793"
     },
     "user_tz": 240
    },
    "id": "r9e6MRrW1G22"
   },
   "outputs": [],
   "source": [
    "# Configurar la matriz adecuadamente, y agregar una columna de unos que corresponde al termino de intercepción.\n",
    "m, n = X.shape\n",
    "# Agraga el termino de intercepción a A\n",
    "# X = np.concatenate([np.ones((m, 1)), X_norm], axis=1)\n",
    "X = X_norm\n",
    "# X = np.concatenate([np.ones((m, 1)), X], axis=1)"
   ]
  },
  {
   "cell_type": "markdown",
   "metadata": {
    "collapsed": true,
    "id": "M2h-xWvTSxgM"
   },
   "source": [
    "### 1.3 Vectorización de regresión logística\n",
    "\n",
    "Se utilizará múltiples modelos de regresión logística uno contra todos para construir un clasificador de clases múltiples. Dado que hay 10 clases, deberá entrenar 10 clasificadores de regresión logística separados. Para que esta capacitación sea eficiente, es importante asegurarse de que el código esté bien vectorizado.\n",
    "\n",
    "En esta sección, se implementará una versión vectorizada de regresión logística que no emplea ningún bucle \"for\".\n",
    "\n",
    "Para probar la regresión logística vectorizada, se usara datos personalizados como se definen a continuación."
   ]
  },
  {
   "cell_type": "markdown",
   "metadata": {
    "id": "BQ-PeDkKSxgN"
   },
   "source": [
    "<a id=\"section1\"></a>\n",
    "#### 1.3.1 Vectorización de la funcion de costo\n",
    "\n",
    "Se inicia escribiendo una versión vectorizada de la función de costo. En la regresión logística (no regularizada), la función de costo es\n",
    "\n",
    "$$ J(\\theta) = \\frac{1}{m} \\sum_{i=1}^m \\left[ -y^{(i)} \\log \\left( h_\\theta\\left( x^{(i)} \\right) \\right) - \\left(1 - y^{(i)} \\right) \\log \\left(1 - h_\\theta \\left( x^{(i)} \\right) \\right) \\right] $$\n",
    "\n",
    "Para calcular cada elemento en la suma, tenemos que calcular $h_\\theta(x^{(i)})$ para cada ejemplo $i$, donde $h_\\theta(x^{(i)}) = g(\\theta^T x^{(i)})$ y $g(z) = \\frac{1}{1+e^{-z}}$ es la funcion sigmoidea. Resulta que podemos calcular esto rápidamente para todos los ejemplos usando la multiplicación de matrices. Definamos $X$ y $\\theta$ como\n",
    "\n",
    "$$ X = \\begin{bmatrix} - \\left( x^{(1)} \\right)^T - \\\\ - \\left( x^{(2)} \\right)^T - \\\\ \\vdots \\\\ - \\left( x^{(m)} \\right)^T - \\end{bmatrix} \\qquad \\text{and} \\qquad \\theta = \\begin{bmatrix} \\theta_0 \\\\ \\theta_1 \\\\ \\vdots \\\\ \\theta_n \\end{bmatrix} $$\n",
    "\n",
    "Luego, de calcular el producto matricial $X\\theta$, se tiene:\n",
    "\n",
    "$$ X\\theta = \\begin{bmatrix} - \\left( x^{(1)} \\right)^T\\theta - \\\\ - \\left( x^{(2)} \\right)^T\\theta - \\\\ \\vdots \\\\ - \\left( x^{(m)} \\right)^T\\theta - \\end{bmatrix} = \\begin{bmatrix} - \\theta^T x^{(1)}  - \\\\ - \\theta^T x^{(2)} - \\\\ \\vdots \\\\ - \\theta^T x^{(m)}  - \\end{bmatrix} $$\n",
    "\n",
    "En la última igualdad, usamos el hecho de que $a^Tb = b^Ta$ if $a$ y $b$ son vectores. Esto permite calcular los productos $\\theta^T x^{(i)}$ para todos los ejemplos $i$ en una linea de codigo.\n",
    "\n",
    "#### 1.3.2 Vectorización del gradiente\n",
    "\n",
    "Recordemos que el gradiente del costo de regresión logística (no regularizado) es un vector donde el elemento $j^{th}$ se define como\n",
    "$$ \\frac{\\partial J }{\\partial \\theta_j} = \\frac{1}{m} \\sum_{i=1}^m \\left( \\left( h_\\theta\\left(x^{(i)}\\right) - y^{(i)} \\right)x_j^{(i)} \\right) $$\n",
    "\n",
    "Para vectorizar esta operación sobre el conjunto de datos, se inicia escribiendo todas las derivadas parciales explícitamente para todos $\\theta_j$,\n",
    "\n",
    "$$\n",
    "\\begin{align*}\n",
    "\\begin{bmatrix}\n",
    "\\frac{\\partial J}{\\partial \\theta_0} \\\\\n",
    "\\frac{\\partial J}{\\partial \\theta_1} \\\\\n",
    "\\frac{\\partial J}{\\partial \\theta_2} \\\\\n",
    "\\vdots \\\\\n",
    "\\frac{\\partial J}{\\partial \\theta_n}\n",
    "\\end{bmatrix} = &\n",
    "\\frac{1}{m} \\begin{bmatrix}\n",
    "\\sum_{i=1}^m \\left( \\left(h_\\theta\\left(x^{(i)}\\right) - y^{(i)} \\right)x_0^{(i)}\\right) \\\\\n",
    "\\sum_{i=1}^m \\left( \\left(h_\\theta\\left(x^{(i)}\\right) - y^{(i)} \\right)x_1^{(i)}\\right) \\\\\n",
    "\\sum_{i=1}^m \\left( \\left(h_\\theta\\left(x^{(i)}\\right) - y^{(i)} \\right)x_2^{(i)}\\right) \\\\\n",
    "\\vdots \\\\\n",
    "\\sum_{i=1}^m \\left( \\left(h_\\theta\\left(x^{(i)}\\right) - y^{(i)} \\right)x_n^{(i)}\\right) \\\\\n",
    "\\end{bmatrix} \\\\\n",
    "= & \\frac{1}{m} \\sum_{i=1}^m \\left( \\left(h_\\theta\\left(x^{(i)}\\right) - y^{(i)} \\right)x^{(i)}\\right) \\\\\n",
    "= & \\frac{1}{m} X^T \\left( h_\\theta(x) - y\\right)\n",
    "\\end{align*}\n",
    "$$\n",
    "\n",
    "donde\n",
    "\n",
    "$$  h_\\theta(x) - y =\n",
    "\\begin{bmatrix}\n",
    "h_\\theta\\left(x^{(1)}\\right) - y^{(1)} \\\\\n",
    "h_\\theta\\left(x^{(2)}\\right) - y^{(2)} \\\\\n",
    "\\vdots \\\\\n",
    "h_\\theta\\left(x^{(m)}\\right) - y^{(m)}\n",
    "\\end{bmatrix} $$\n",
    "\n",
    "Nota $x^{(i)}$ es un vector, mientras $h_\\theta\\left(x^{(i)}\\right) - y^{(i)}$ es un escalar(simple número).\n",
    "Para comprender el último paso de la derivación, dejemos $\\beta_i = (h_\\theta\\left(x^{(m)}\\right) - y^{(m)})$ y\n",
    "observar que:\n",
    "\n",
    "$$ \\sum_i \\beta_ix^{(i)} = \\begin{bmatrix}\n",
    "| & | & & | \\\\\n",
    "x^{(1)} & x^{(2)} & \\cdots & x^{(m)} \\\\\n",
    "| & | & & |\n",
    "\\end{bmatrix}\n",
    "\\begin{bmatrix}\n",
    "\\beta_1 \\\\\n",
    "\\beta_2 \\\\\n",
    "\\vdots \\\\\n",
    "\\beta_m\n",
    "\\end{bmatrix} = x^T \\beta\n",
    "$$\n",
    "\n",
    "donde los valores $\\beta_i = \\left( h_\\theta(x^{(i)} - y^{(i)} \\right)$.\n",
    "\n",
    "La expresión anterior nos permite calcular todas las derivadas parciales sin bucles.\n",
    "Si se siente cómodo con el álgebra lineal, le recomendamos que trabaje con las multiplicaciones de matrices anteriores para convencerse de que la versión vectorizada hace los mismos cálculos.\n",
    "\n",
    "<div class=\"alert alert-box alert-warning\">\n",
    "** Consejo de depuración: ** El código de vectorización a veces puede ser complicado. Una estrategia común para la depuración es imprimir los tamaños de las matrices con las que está trabajando usando la propiedad `shape` de las matrices` numpy`.\n",
    "\n",
    "Por ejemplo, dada una matriz de datos $X$ de tamaño $100\\veces 20$ (100 ejemplos, 20 características) y $\\theta$, un vector con tamaño $20$, puede observar que `np.dot (X, theta) `es una operación de multiplicación válida, mientras que` np.dot (theta, X) `no lo es.\n",
    "\n",
    "Además, si tiene una versión no vectorizada de su código, puede comparar la salida de su código vectorizado y el código no vectorizado para asegurarse de que produzcan las mismas salidas.</div>\n",
    "<a id=\"lrCostFunction\"></a>"
   ]
  },
  {
   "cell_type": "code",
   "execution_count": 31,
   "metadata": {
    "executionInfo": {
     "elapsed": 22,
     "status": "ok",
     "timestamp": 1756224621291,
     "user": {
      "displayName": "Carlos Walter Pacheco Lora",
      "userId": "05889892519883337793"
     },
     "user_tz": 240
    },
    "id": "0sB9Kyi8SxgN"
   },
   "outputs": [],
   "source": [
    "def sigmoid(z):\n",
    "    \"\"\"\n",
    "    Calcula la sigmoide de z.\n",
    "    \"\"\"\n",
    "    return 1.0 / (1.0 + np.exp(-z))"
   ]
  },
  {
   "cell_type": "code",
   "execution_count": 32,
   "metadata": {
    "executionInfo": {
     "elapsed": 21,
     "status": "ok",
     "timestamp": 1756224621291,
     "user": {
      "displayName": "Carlos Walter Pacheco Lora",
      "userId": "05889892519883337793"
     },
     "user_tz": 240
    },
    "id": "fdCFEcXzGDsF"
   },
   "outputs": [],
   "source": [
    "def calcularCosto(theta, X, y):\n",
    "    # Inicializar algunos valores utiles\n",
    "    m = y.size  # numero de ejemplos de entrenamiento\n",
    "\n",
    "    J = 0\n",
    "    h = sigmoid(X.dot(theta.T))\n",
    "    J = (1 / m) * np.sum(-y.dot(np.log(h)) - (1 - y).dot(np.log(1 - h)))\n",
    "\n",
    "    return J"
   ]
  },
  {
   "cell_type": "code",
   "execution_count": 33,
   "metadata": {
    "executionInfo": {
     "elapsed": 22,
     "status": "ok",
     "timestamp": 1756224621292,
     "user": {
      "displayName": "Carlos Walter Pacheco Lora",
      "userId": "05889892519883337793"
     },
     "user_tz": 240
    },
    "id": "6WWZmMXnGL-w"
   },
   "outputs": [],
   "source": [
    "def descensoGradiente(theta, X, y, alpha, num_iters):\n",
    "    # Inicializa algunos valores\n",
    "    m = y.shape[0] # numero de ejemplos de entrenamiento\n",
    "\n",
    "    # realiza una copia de theta, el cual será acutalizada por el descenso por el gradiente\n",
    "    theta = theta.copy()\n",
    "    J_history = []\n",
    "\n",
    "    for i in range(num_iters):\n",
    "        h = sigmoid(X.dot(theta.T))\n",
    "        theta = theta - (alpha / m) * (h - y).dot(X)\n",
    "\n",
    "        J_history.append(calcularCosto(theta, X, y))\n",
    "    return theta, J_history"
   ]
  },
  {
   "cell_type": "code",
   "execution_count": 34,
   "metadata": {
    "executionInfo": {
     "elapsed": 20,
     "status": "ok",
     "timestamp": 1756224621297,
     "user": {
      "displayName": "Carlos Walter Pacheco Lora",
      "userId": "05889892519883337793"
     },
     "user_tz": 240
    },
    "id": "w5S0OOswSxgN"
   },
   "outputs": [],
   "source": [
    "def lrCostFunction(theta, X, y, lambda_):\n",
    "    \"\"\"\n",
    "    Calcula el costo de usar theta como parámetro para la regresión logística regularizada y\n",
    "    el gradiente del costo w.r.t. a los parámetros.\n",
    "\n",
    "    Parametros\n",
    "    ----------\n",
    "    theta : array_like\n",
    "        Parametro theta de la regresion logistica. Vector de la forma(shape) (n, ). n es el numero de caracteristicas\n",
    "        incluida la intercepcion\n",
    "\n",
    "    X : array_like\n",
    "        Dataset con la forma(shape) (m x n). m es el numero de ejemplos, y n es el numero de\n",
    "        caracteristicas (incluida la intercepcion).\n",
    "\n",
    "    y : array_like\n",
    "        El conjunto de etiquetas. Un vector con la forma (shape) (m, ). m es el numero de ejemplos\n",
    "\n",
    "    lambda_ : float\n",
    "        Parametro de regularización.\n",
    "\n",
    "    Devuelve\n",
    "    -------\n",
    "    J : float\n",
    "        El valor calculado para la funcion de costo regularizada.\n",
    "\n",
    "    grad : array_like\n",
    "        Un vector de la forma (shape) (n, ) que es el gradiente de la\n",
    "        función de costo con respecto a theta, en los valores actuales de theta..\n",
    "    \"\"\"\n",
    "#     alpha = 0.003\n",
    "#     theta = theta.copy()\n",
    "    # Inicializa algunos valores utiles\n",
    "    m = y.size\n",
    "\n",
    "    # convierte las etiquetas a valores enteros si son boleanos\n",
    "    if y.dtype == bool:\n",
    "        y = y.astype(int)\n",
    "\n",
    "    J = 0\n",
    "    grad = np.zeros(theta.shape)\n",
    "\n",
    "    h = sigmoid(X.dot(theta.T))\n",
    "\n",
    "    temp = theta\n",
    "    temp[0] = 0\n",
    "\n",
    "#     J = (1 / m) * np.sum(-y.dot(np.log(h)) - (1 - y).dot(np.log(1 - h)))\n",
    "    J = (1 / m) * np.sum(-y.dot(np.log(h)) - (1 - y).dot(np.log(1 - h))) + (lambda_ / (2 * m)) * np.sum(np.square(temp))\n",
    "\n",
    "    grad = (1 / m) * (h - y).dot(X)\n",
    "#     theta = theta - (alpha / m) * (h - y).dot(X)\n",
    "    grad = grad + (lambda_ / m) * temp\n",
    "\n",
    "    return J, grad\n",
    "#    return J, theta"
   ]
  },
  {
   "cell_type": "markdown",
   "metadata": {
    "id": "eJyLWCXrSxgN"
   },
   "source": [
    "#### 1.3.3 Vectorización regularizada de la regresión logística\n",
    "\n",
    "Una vez implementada la vectorización para la regresión logística, corresponde agregarar regularización a la función de costo.\n",
    "Para la regresión logística regularizada, la función de costo se define como\n",
    "\n",
    "$$ J(\\theta) = \\frac{1}{m} \\sum_{i=1}^m \\left[ -y^{(i)} \\log \\left(h_\\theta\\left(x^{(i)} \\right)\\right) - \\left( 1 - y^{(i)} \\right) \\log\\left(1 - h_\\theta \\left(x^{(i)} \\right) \\right) \\right] + \\frac{\\lambda}{2m} \\sum_{j=1}^n \\theta_j^2 $$\n",
    "\n",
    "Tomar en cuenta que no debería regularizarse $\\theta_0$ que se usa para el término de sesgo. En consecuencia, la derivada parcial del costo de regresión logística regularizado para $\\theta_j$ se define como\n",
    "\n",
    "$$\n",
    "\\begin{align*}\n",
    "& \\frac{\\partial J(\\theta)}{\\partial \\theta_0} = \\frac{1}{m} \\sum_{i=1}^m \\left( h_\\theta\\left( x^{(i)} \\right) - y^{(i)} \\right) x_j^{(i)}  & \\text{for } j = 0 \\\\\n",
    "& \\frac{\\partial J(\\theta)}{\\partial \\theta_0} = \\left( \\frac{1}{m} \\sum_{i=1}^m \\left( h_\\theta\\left( x^{(i)} \\right) - y^{(i)} \\right) x_j^{(i)} \\right) + \\frac{\\lambda}{m} \\theta_j & \\text{for } j  \\ge 1\n",
    "\\end{align*}\n",
    "$$\n",
    "\n",
    "<div class=\"alert alert-box alert-warning\">\n",
    "** Python/numpy Consejo: ** Al implementar la vectorización para la regresión logística regularizada, a menudo es posible que solo desee sumar y actualizar ciertos elementos de $\\theta$. En `numpy`, puede indexar en las matrices para acceder y actualizar solo ciertos elementos.\n",
    "\n",
    "Por ejemplo, A [:, 3: 5] = B [:, 1: 3] reemplazará las columnas con índice 3 a 5 de A con las columnas con índice 1 a 3 de B.   \n",
    "Para seleccionar columnas (o filas) hasta el final de la matriz, puede dejar el lado derecho de los dos puntos en blanco.\n",
    "Por ejemplo, A [:, 2:] solo devolverá elementos desde $3^{rd}$ a las últimas columnas de $A$.Si deja el tamaño de la mano izquierda de los dos puntos en blanco, seleccionará los elementos del principio de la matriz.\n",
    "Por ejemplo, A [:,: 2] selecciona las dos primeras columnas y es equivalente a A [:, 0: 2]. Además, puede utilizar índices negativos para indexar matrices desde el final.\n",
    "Por lo tanto, A [:,: -1] selecciona todas las columnas de A excepto la última columna, y A [:, -5:] selecciona la columna $5^{th}$ desde el final hasta la última columna.\n",
    "\n",
    "Por lo tanto, podría usar esto junto con las operaciones de suma y potencia ($^{**}$) para calcular la suma de solo los elementos que le interesan (por ejemplo, `np.sum (z[1:]**2)`).\n",
    "</div>\n"
   ]
  },
  {
   "cell_type": "markdown",
   "metadata": {
    "id": "Rlk-Z2p-SxgN"
   },
   "source": [
    "<a id=\"section2\"></a>\n",
    "### 1.4 Clasificacion One-vs-all\n",
    "En esta parte del ejercicio, se implementará la clasificación de uno contra todos mediante el entrenamiento de múltiples clasificadores de regresión logística regularizados, uno para cada una de las clases $K$ en nuestro conjunto de datos. En el conjunto de datos de dígitos escritos a mano, $K = 10$, pero su código debería funcionar para cualquier valor de $K$.\n",
    "\n",
    "El argumento `y` de esta función es un vector de etiquetas de 0 a 9. Al entrenar el clasificador para la clase $k \\in \\{0, ..., K-1 \\} $, querrá un vector K-dimensional de etiquetas $y$, donde $y_j \\ in 0, 1$ indica si la instancia de entrenamiento $j ^ {th}$ pertenece a la clase $k$ $(y_j = 1)$, o si pertenece a una clase diferente $(y_j = 0)$.\n",
    "\n",
    "Además, se utiliza `optimize.minimize` de scipy para este ejercicio.\n",
    "<a id=\"oneVsAll\"></a>"
   ]
  },
  {
   "cell_type": "code",
   "execution_count": 35,
   "metadata": {
    "executionInfo": {
     "elapsed": 5,
     "status": "ok",
     "timestamp": 1756224621297,
     "user": {
      "displayName": "Carlos Walter Pacheco Lora",
      "userId": "05889892519883337793"
     },
     "user_tz": 240
    },
    "id": "4xM2MCvsGqYo"
   },
   "outputs": [],
   "source": [
    "def OneVsAll(X, y, num_labels, lambda_):\n",
    "  alpha = 0.001\n",
    "  num_iters = 100000\n",
    "\n",
    "  m, n = X.shape\n",
    "  all_theta = np.zeros((num_labels, n + 1))\n",
    "\n",
    "  # Agrega unos a la matriz X\n",
    "  X = np.concatenate([np.ones((m, 1)), X], axis=1)\n",
    "\n",
    "  for c in np.arange(num_labels):\n",
    "      initial_theta = np.zeros(n + 1)\n",
    "\n",
    "      y_actual = np.where(y == c, 1, 0)\n",
    "\n",
    "      theta, J_history = descensoGradiente(initial_theta, X, y_actual, alpha, num_iters)\n",
    "\n",
    "      all_theta[c] = theta\n",
    "      # Grafica la convergencia del costo\n",
    "      pyplot.plot(np.arange(len(J_history)), J_history, lw=2)\n",
    "      pyplot.xlabel('Numero de iteraciones')\n",
    "      pyplot.ylabel('Costo J')\n",
    "\n",
    "  return all_theta"
   ]
  },
  {
   "cell_type": "code",
   "execution_count": 36,
   "metadata": {
    "executionInfo": {
     "elapsed": 5,
     "status": "ok",
     "timestamp": 1756224621298,
     "user": {
      "displayName": "Carlos Walter Pacheco Lora",
      "userId": "05889892519883337793"
     },
     "user_tz": 240
    },
    "id": "V0rOw5qhSxgN"
   },
   "outputs": [],
   "source": [
    "def OneVsAllOM(X, y, num_labels, lambda_):\n",
    "    \"\"\"\n",
    "    Trains num_labels logistic regression classifiers and returns\n",
    "    each of these classifiers in a matrix all_theta, where the i-th\n",
    "    row of all_theta corresponds to the classifier for label i.\n",
    "\n",
    "    Parameters\n",
    "    ----------\n",
    "    X : array_like\n",
    "        The input dataset of shape (m x n). m is the number of\n",
    "        data points, and n is the number of features. Note that we\n",
    "        do not assume that the intercept term (or bias) is in X, however\n",
    "        we provide the code below to add the bias term to X.\n",
    "\n",
    "    y : array_like\n",
    "        The data labels. A vector of shape (m, ).\n",
    "\n",
    "    num_labels : int\n",
    "        Number of possible labels.\n",
    "\n",
    "    lambda_ : float\n",
    "        The logistic regularization parameter.\n",
    "\n",
    "    Returns\n",
    "    -------\n",
    "    all_theta : array_like\n",
    "        The trained parameters for logistic regression for each class.\n",
    "        This is a matrix of shape (K x n+1) where K is number of classes\n",
    "        (ie. `numlabels`) and n is number of features without the bias.\n",
    "    \"\"\"\n",
    "    # algunas variables utiles\n",
    "    m, n = X.shape\n",
    "\n",
    "    all_theta = np.zeros((num_labels, n + 1))\n",
    "\n",
    "    # Agrega unos a la matriz X\n",
    "    X = np.concatenate([np.ones((m, 1)), X], axis=1)\n",
    "\n",
    "    for c in np.arange(num_labels):\n",
    "        initial_theta = np.zeros(n + 1)\n",
    "        options = {'maxiter': 10}\n",
    "        res = optimize.minimize(lrCostFunction,\n",
    "                                initial_theta,\n",
    "                                (X, (y == c), lambda_),\n",
    "                                jac=True,\n",
    "                                method='CG',\n",
    "                                options=options)\n",
    "\n",
    "        all_theta[c] = res.x\n",
    "\n",
    "\n",
    "    return all_theta"
   ]
  },
  {
   "cell_type": "code",
   "execution_count": 37,
   "metadata": {
    "colab": {
     "base_uri": "https://localhost:8080/"
    },
    "executionInfo": {
     "elapsed": 11,
     "status": "ok",
     "timestamp": 1756224621305,
     "user": {
      "displayName": "Carlos Walter Pacheco Lora",
      "userId": "05889892519883337793"
     },
     "user_tz": 240
    },
    "id": "w6JbsLLMSxgO",
    "outputId": "fd3ed914-174e-4493-9284-e6a3b0071b46"
   },
   "outputs": [
    {
     "name": "stdout",
     "output_type": "stream",
     "text": [
      "(3, 7)\n"
     ]
    }
   ],
   "source": [
    "lambda_ = 0.1\n",
    "all_theta = OneVsAllOM(X, y, num_labels, lambda_)\n",
    "print(all_theta.shape)"
   ]
  },
  {
   "cell_type": "code",
   "execution_count": 18,
   "metadata": {
    "colab": {
     "base_uri": "https://localhost:8080/"
    },
    "executionInfo": {
     "elapsed": 49,
     "status": "ok",
     "timestamp": 1756224621354,
     "user": {
      "displayName": "Carlos Walter Pacheco Lora",
      "userId": "05889892519883337793"
     },
     "user_tz": 240
    },
    "id": "V1EfKaiEgtcw",
    "outputId": "6dc35b97-1046-432a-f93d-9985dae01bae"
   },
   "outputs": [
    {
     "name": "stdout",
     "output_type": "stream",
     "text": [
      "[[ 0.          0.          0.          0.          0.          0.\n",
      "   0.          0.          0.          0.        ]\n",
      " [ 0.00405351  0.00444984 -0.53550979 -0.74540547  0.68944984  0.04755007\n",
      "   1.08084531  0.06906594 -0.27333268 -0.00274235]\n",
      " [-0.01391422 -0.02293882  1.51360843 -1.73455664  0.40143999 -0.12139614\n",
      "  -0.87594368 -1.08451652  0.7201108  -0.09625994]]\n"
     ]
    }
   ],
   "source": [
    "print(all_theta)"
   ]
  },
  {
   "cell_type": "markdown",
   "metadata": {
    "id": "aQLqvbc_SxgO"
   },
   "source": [
    "<a id=\"section3\"></a>\n",
    "#### 1.4.1 Prediccion One-vs-all\n",
    "\n",
    "Después de entrenar el clasificador de one-vs-all, se puede usarlo para predecir el dígito contenido en una imagen determinada. Para cada entrada, debe calcular la \"probabilidad\" de que pertenezca a cada clase utilizando los clasificadores de regresión logística entrenados. La función de predicción one-vs-all seleccionará la clase para la cual el clasificador de regresión logística correspondiente genera la probabilidad más alta y devolverá la etiqueta de clase (0, 1, ..., K-1) como la predicción para el ejemplo de entrada."
   ]
  },
  {
   "cell_type": "code",
   "execution_count": 38,
   "metadata": {
    "executionInfo": {
     "elapsed": 64,
     "status": "ok",
     "timestamp": 1756224621419,
     "user": {
      "displayName": "Carlos Walter Pacheco Lora",
      "userId": "05889892519883337793"
     },
     "user_tz": 240
    },
    "id": "PjFoFe1bSxgO"
   },
   "outputs": [],
   "source": [
    "def predictOneVsAll(all_theta, X):\n",
    "    \"\"\"\n",
    "    Devuelve un vector de predicciones para cada ejemplo en la matriz X.\n",
    "    Tenga en cuenta que X contiene los ejemplos en filas.\n",
    "    all_theta es una matriz donde la i-ésima fila es un vector theta de regresión logística entrenada para la i-ésima clase.\n",
    "    Debe establecer p en un vector de valores de 0..K-1 (por ejemplo, p = [0, 2, 0, 1]\n",
    "    predice clases 0, 2, 0, 1 para 4 ejemplos).\n",
    "\n",
    "    Parametros\n",
    "    ----------\n",
    "    all_theta : array_like\n",
    "        The trained parameters for logistic regression for each class.\n",
    "        This is a matrix of shape (K x n+1) where K is number of classes\n",
    "        and n is number of features without the bias.\n",
    "\n",
    "    X : array_like\n",
    "        Data points to predict their labels. This is a matrix of shape\n",
    "        (m x n) where m is number of data points to predict, and n is number\n",
    "        of features without the bias term. Note we add the bias term for X in\n",
    "        this function.\n",
    "\n",
    "    Devuelve\n",
    "    -------\n",
    "    p : array_like\n",
    "        The predictions for each data point in X. This is a vector of shape (m, ).\n",
    "    \"\"\"\n",
    "\n",
    "    m = X.shape[0];\n",
    "    num_labels = all_theta.shape[0]\n",
    "\n",
    "    p = np.zeros(m)\n",
    "\n",
    "    # Add ones to the X data matrix\n",
    "    X = np.concatenate([np.ones((m, 1)), X], axis=1)\n",
    "    p = np.argmax(sigmoid(X.dot(all_theta.T)), axis = 1)\n",
    "\n",
    "    return p"
   ]
  },
  {
   "cell_type": "markdown",
   "metadata": {
    "id": "zo3aawvsSxgO"
   },
   "source": [
    "Una vez que haya terminado, se llama a la función `predictOneVsAll` usando el valor aprendido de $\\theta$. Debería apreciarse que la precisión del conjunto de entrenamiento es de aproximadamente 95,1% (es decir, clasifica correctamente el 95,1% de los ejemplos del conjunto de entrenamiento)."
   ]
  },
  {
   "cell_type": "code",
   "execution_count": 42,
   "metadata": {
    "colab": {
     "base_uri": "https://localhost:8080/"
    },
    "executionInfo": {
     "elapsed": 5,
     "status": "ok",
     "timestamp": 1756224621424,
     "user": {
      "displayName": "Carlos Walter Pacheco Lora",
      "userId": "05889892519883337793"
     },
     "user_tz": 240
    },
    "id": "mE7v5cglSxgO",
    "outputId": "5b8921b7-ee4c-4ae6-ffb4-0d6d4dbf8d19"
   },
   "outputs": [
    {
     "name": "stdout",
     "output_type": "stream",
     "text": [
      "(55500, 6)\n",
      "Precision del conjuto de entrenamiento: 33.52%\n",
      "(45, 6)\n",
      "(45, 7)\n",
      "[0 0 2 2 0 2 2 0 2 2 0 2 2 2 0 0 0 0 1 2 1 2 0 2 0 0 2 2 1 2 2 2 1 2 0 2 0\n",
      " 0 0 2 2 2 0 2 2]\n",
      "[2 2 2 1 0 0 1 0 0 0 2 2 2 1 2 0 1 1 0 0 2 0 2 1 1 2 1 0 0 1 2 2 2 2 2 0 0\n",
      " 1 0 2 1 2 1 2 1]\n"
     ]
    }
   ],
   "source": [
    "print(X.shape)\n",
    "pred = predictOneVsAll(all_theta, X)\n",
    "print('Precision del conjuto de entrenamiento: {:.2f}%'.format(np.mean(pred == y) * 100))\n",
    "XPrueba = X[100:145, :].copy()\n",
    "print(XPrueba.shape)\n",
    "#print(np.ones((1)))\n",
    "#print(XPrueba)\n",
    "#p = np.zeros(1)\n",
    "XPrueba = np.concatenate([np.ones((45, 1)), XPrueba], axis=1)\n",
    "print(XPrueba.shape)\n",
    "p = np.argmax(sigmoid(XPrueba.dot(all_theta.T)), axis = 1)\n",
    "print(p)\n",
    "\n",
    "# displayData(X[1002:1003, :])\n",
    "print(y[100:145])"
   ]
  },
  {
   "cell_type": "code",
   "execution_count": 36,
   "metadata": {
    "executionInfo": {
     "elapsed": 0,
     "status": "ok",
     "timestamp": 1756224621425,
     "user": {
      "displayName": "Carlos Walter Pacheco Lora",
      "userId": "05889892519883337793"
     },
     "user_tz": 240
    },
    "id": "7WaT8luNSxgO"
   },
   "outputs": [],
   "source": []
  }
 ],
 "metadata": {
  "colab": {
   "provenance": [
    {
     "file_id": "1DV2tfdqpCt6h-5x3DeVxnDpfUrYRcoCx",
     "timestamp": 1756173257933
    }
   ]
  },
  "kernelspec": {
   "display_name": "Python (Anaconda Base)",
   "language": "python",
   "name": "base"
  },
  "language_info": {
   "codemirror_mode": {
    "name": "ipython",
    "version": 3
   },
   "file_extension": ".py",
   "mimetype": "text/x-python",
   "name": "python",
   "nbconvert_exporter": "python",
   "pygments_lexer": "ipython3",
   "version": "3.13.5"
  }
 },
 "nbformat": 4,
 "nbformat_minor": 0
}
